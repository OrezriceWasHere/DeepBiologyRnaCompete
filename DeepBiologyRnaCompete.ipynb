{
  "nbformat": 4,
  "nbformat_minor": 0,
  "metadata": {
    "colab": {
      "provenance": []
    },
    "kernelspec": {
      "name": "python3",
      "display_name": "Python 3"
    },
    "language_info": {
      "name": "python"
    }
  },
  "cells": [
    {
      "cell_type": "markdown",
      "source": [
        "**Imports**"
      ],
      "metadata": {
        "id": "NbTe6zGvmBKq"
      }
    },
    {
      "cell_type": "code",
      "source": [],
      "metadata": {
        "id": "-vpzn_XTmhWU"
      },
      "execution_count": null,
      "outputs": []
    },
    {
      "cell_type": "code",
      "execution_count": null,
      "metadata": {
        "id": "_Q6jH83clU_e"
      },
      "outputs": [],
      "source": [
        "import os\n",
        "from torch.utils.data import Dataset, DataLoader"
      ]
    },
    {
      "cell_type": "markdown",
      "source": [
        "**Datasets**"
      ],
      "metadata": {
        "id": "WvYjtCCVmcU1"
      }
    },
    {
      "cell_type": "code",
      "source": [
        "class RbpCompeteSequenceDataset(Dataset):\n",
        "    def __init__(self, data_dir, sequence_file):\n",
        "        self.data_dir = data_dir\n",
        "        self.sequence_file = sequence_file\n",
        "        self.files = [f for f in os.listdir(data_dir) if f.startswith('RBP') and f.endswith('.txt')]\n",
        "        self.sequences = self._load_sequences(sequence_file)\n",
        "        self.data = self._load_data()\n",
        "\n",
        "    def _load_sequences(self, sequence_file):\n",
        "        sequences = []\n",
        "        with open(sequence_file, 'r') as f:\n",
        "            for line in f:\n",
        "                sequences.append(line.strip())\n",
        "        return sequences\n",
        "\n",
        "    def _load_data(self):\n",
        "        data = []\n",
        "        for file in self.files:\n",
        "            for seq in self.sequences:\n",
        "                with open(os.path.join(self.data_dir, file), 'r') as f:\n",
        "                    for line in f:\n",
        "                        data.append((seq, line))\n",
        "        return data\n",
        "\n",
        "    def __len__(self):\n",
        "        return len(self.data)\n",
        "\n",
        "    def __getitem__(self, idx):\n",
        "        x, y = self.data[idx]\n",
        "        return x, y"
      ],
      "metadata": {
        "id": "o7SXuJHylWiL"
      },
      "execution_count": null,
      "outputs": []
    },
    {
      "cell_type": "code",
      "source": [
        "class RbpSelexDataset(Dataset):\n",
        "    def __init__(self, directory):\n",
        "        self.directory = directory\n",
        "        self.files = [os.path.join(directory, f) for f in os.listdir(directory) if f.endswith('.txt')]\n",
        "        self.data = []\n",
        "\n",
        "        for file in self.files:\n",
        "            with open(file, 'r') as f:\n",
        "                for line in f:\n",
        "                    sequence, _ = line.strip().split(',')\n",
        "                    label = int(file[:-4].split('_')[1])  # Extract the label\n",
        "                    self.data.append((sequence, label))\n",
        "\n",
        "    def __len__(self):\n",
        "        return len(self.data)\n",
        "\n",
        "    def __getitem__(self, idx):\n",
        "        x, y = self.data[idx]\n",
        "        return x, y"
      ],
      "metadata": {
        "id": "XxNNpuLRlxKl"
      },
      "execution_count": null,
      "outputs": []
    }
  ]
}